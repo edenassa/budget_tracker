{
 "cells": [
  {
   "cell_type": "code",
   "execution_count": 15,
   "metadata": {},
   "outputs": [
    {
     "name": "stdout",
     "output_type": "stream",
     "text": [
      "Requirement already satisfied: matplotlib in /opt/anaconda3/lib/python3.7/site-packages (3.1.3)\n",
      "Requirement already satisfied: numpy>=1.11 in /opt/anaconda3/lib/python3.7/site-packages (from matplotlib) (1.18.1)\n",
      "Requirement already satisfied: pyparsing!=2.0.4,!=2.1.2,!=2.1.6,>=2.0.1 in /opt/anaconda3/lib/python3.7/site-packages (from matplotlib) (2.4.6)\n",
      "Requirement already satisfied: python-dateutil>=2.1 in /opt/anaconda3/lib/python3.7/site-packages (from matplotlib) (2.8.1)\n",
      "Requirement already satisfied: cycler>=0.10 in /opt/anaconda3/lib/python3.7/site-packages (from matplotlib) (0.10.0)\n",
      "Requirement already satisfied: kiwisolver>=1.0.1 in /opt/anaconda3/lib/python3.7/site-packages (from matplotlib) (1.1.0)\n",
      "Requirement already satisfied: six>=1.5 in /opt/anaconda3/lib/python3.7/site-packages (from python-dateutil>=2.1->matplotlib) (1.14.0)\n",
      "Requirement already satisfied: setuptools in /opt/anaconda3/lib/python3.7/site-packages (from kiwisolver>=1.0.1->matplotlib) (46.0.0.post20200309)\n"
     ]
    }
   ],
   "source": [
    "!pip install matplotlib"
   ]
  },
  {
   "cell_type": "code",
   "execution_count": 18,
   "metadata": {},
   "outputs": [],
   "source": [
    "import datetime\n",
    "from pandas import DataFrame\n",
    "import matplotlib.pyplot as plt\n",
    "import numpy as np\n",
    "\n",
    "class Budget_tracker:\n",
    "    \n",
    "    \n",
    "    def __init__(self,date,user_name,income,expenses,exceptional_expenses):\n",
    "        self.date = date\n",
    "        self.user_name = user_name\n",
    "        self.income = income\n",
    "        self.expenses = expenses\n",
    "        self.exceptional_expenses = exceptional_expenses\n",
    "    def __str__(self):\n",
    "        return str(self.__dict__)\n",
    "    \n",
    "    @classmethod\n",
    "    def create_new_budget(self):\n",
    "        print(\"Hi we are going to create your monthly budget :)\")\n",
    "        income = {}\n",
    "        expenses = {}\n",
    "        exceptional_expenses = {}\n",
    "        date = datetime.date.today()\n",
    "        user_name = input(\"What is your name? \")\n",
    "        k_income = input(\"Please add a description of your income: for example(work,rentals,etc..) \")\n",
    "        v_income = int(input(\"How much money do you make a month out of it? \"))\n",
    "        income.update({k_income:v_income})\n",
    "        add_another_income = input(\"Would you like to add another income?(Yes/No) \")\n",
    "        while add_another_income[0].lower() == 'y':\n",
    "            k = input(\"Please add a description of your income: for example(work,rentals,etc..) \")\n",
    "            v = int(input(\"How much money do you make a month out of it? \"))\n",
    "            income.update({k:v})\n",
    "            add_another_income = input(\"Would you like to add another income?(Yes/No) \")\n",
    "        else:\n",
    "            print(\"income added successfully\")\n",
    "            \n",
    "        k_expense = input(\"Write down the subject of your expense: for example(rent,gym etc..) \")\n",
    "        v_expense = int(input(\"How much do you spend on it a month? \"))\n",
    "        expenses.update({k_expense:v_expense})\n",
    "        add_another_expense = input(\"Would you like to add another expenses?(Yes/No) \")\n",
    "        while add_another_expense[0].lower() == 'y':\n",
    "            k = input(\"Write down the subject of your expense: for example(rent,gym etc..) \")\n",
    "            v = int(input(\"How much do you spend on it a month? \"))\n",
    "            expenses.update({k:v})\n",
    "            add_another_expense = input(\"Would you like to add another expenses?(Yes/No) \")\n",
    "        else:\n",
    "            print(\"Expense added successfully\")\n",
    "        \n",
    "        k_exceptional = input(\"Write down the subject of any exceptional expense that you have: for example(vacation,flights..)\")\n",
    "        v_exceptional = int(input(\"How much do you spend on it? \"))\n",
    "        exceptional_expenses.update({k_exceptional:v_exceptional})\n",
    "        print(\"Budget added successfully :)\")\n",
    "        return self(date,user_name,income,expenses,exceptional_expenses)\n",
    "        \n",
    "    \n",
    "    def add_income(self):\n",
    "        add_another_income = input(\"Would you like to add another income?(Yes/No) \")\n",
    "        while add_another_income[0].lower() == 'y':\n",
    "            k = input(\"Please add a description of your income: for example(work,rentals,etc..) \")\n",
    "            v = int(input(\"How much money do you make a month out of it? \"))\n",
    "            self.income.update({k:v})\n",
    "            add_another_income = input(\"Would you like to add another income?(Yes/No) \")\n",
    "        else:\n",
    "            print(\"income added successfully\")\n",
    "            return self.income\n",
    "        \n",
    "        \n",
    "    def total_income(self):\n",
    "        total_income = 0\n",
    "        list_of_incomes = new_budget1.income.values()\n",
    "        for element in list_of_incomes:\n",
    "            total_income += element\n",
    "        return total_income\n",
    "        \n",
    "    \n",
    "    def add_another_expense(self):\n",
    "        add_another_expense = input(\"Would you like to add another expenses?(Yes/No) \")\n",
    "        while add_another_expense[0].lower() == 'y':\n",
    "            k = input(\"Write down the subject of your expense: for example(rent,gym etc..) \")\n",
    "            v = int(input(\"How much do you spend on it a month? \"))\n",
    "            self.expenses.update({k:v})\n",
    "            add_another_expense = input(\"Would you like to add another expenses?(Yes/No) \")\n",
    "        else:\n",
    "            print(\"Expense added successfully\")\n",
    "        return self.expenses\n",
    "    \n",
    "    def total_expenses(self):\n",
    "        total_expenses = 0\n",
    "        list_of_expenses = new_budget1.expenses.values()\n",
    "        list_of_exceptional_expenses = new_budget1.exceptional_expenses.values()\n",
    "        for element in list_of_expenses:\n",
    "            total_expenses += element\n",
    "        for x in list_of_exceptional_expenses:\n",
    "            total_expenses += x\n",
    "        return total_expenses\n",
    "    \n",
    "    #def your_monthly_budget(self):\n",
    "        #monthly_budget = self.total_income - self.total_expenses\n",
    "        #return monthly_budget\n",
    "    \n",
    "        \n",
    "        "
   ]
  },
  {
   "cell_type": "code",
   "execution_count": 27,
   "metadata": {},
   "outputs": [],
   "source": [
    "def your_monthly_budget(total_income,total_expenses):\n",
    "        monthly_budget = total_income - total_expenses\n",
    "        print(f'Your monthly budget is:{monthly_budget}')\n",
    "        return monthly_budget\n",
    "    \n",
    "\n",
    "    "
   ]
  },
  {
   "cell_type": "code",
   "execution_count": 45,
   "metadata": {},
   "outputs": [],
   "source": [
    "def years_for_retirement(monthly_budget,total_expenses):\n",
    "        #print(\"This estimation will present how many years it will take you to retire. We work with the 4% rule.(By William Bengen)\") \")\n",
    "        total_savings = int(input(\"How much money do you have saved?\"))\n",
    "        monthly_savings = int(input(\"How much money do you save a month?\"))\n",
    "        if int(monthly_savings)>=int(monthly_budget) * 0.1:\n",
    "            print(\"Good job!\")\n",
    "        do_you_invest = input(\"Do you invest your savings?\")\n",
    "        if do_you_invest[0].lower() == 'y':\n",
    "            interest = input(\"How much percentages(averagely) do you make a year?\")\n",
    "            if int(interest) >= 7:\n",
    "                print(\"Wow that's a great return!\")\n",
    "        years = [5,10,15,20,25,30]\n",
    "        savings = []\n",
    "        interest = int(interest)/100\n",
    "        for element in years:\n",
    "            total_savings+= monthly_savings*12\n",
    "            a = total_savings*(1+interest*element)\n",
    "            savings.append(round(a))  \n",
    "                           \n",
    "        plt.plot(years,savings)\n",
    "        plt.show()\n",
    "        \n",
    "        #plt.plot(savings,np_years)\n",
    "        #plt.show()\n",
    "        \n",
    "        #sum_of_money * 0.04 >= total_expenses*12\n",
    "        #while:\n",
    "            #for\n",
    "        #((total_savings + monthly_savings) * interest) * how many years\n",
    "        \n",
    "            \n",
    "        "
   ]
  },
  {
   "cell_type": "code",
   "execution_count": 2,
   "metadata": {},
   "outputs": [
    {
     "name": "stdout",
     "output_type": "stream",
     "text": [
      "Hi we are going to create your monthly budget :)\n",
      "What is your name? Eden\n",
      "Please add a description of your income: for example(work,rentals,etc..) work\n",
      "How much money do you make a month out of it? 4000\n",
      "Would you like to add another income?(Yes/No) yes\n",
      "Please add a description of your income: for example(work,rentals,etc..) rentals\n",
      "How much money do you make a month out of it? 900\n",
      "Would you like to add another income?(Yes/No) no\n",
      "income added successfully\n",
      "Write down the subject of your expense: for example(rent,gym etc..) rent\n",
      "How much do you spend on it a month? 1000\n",
      "Would you like to add another expenses?(Yes/No) no\n",
      "Expense added successfully\n",
      "Write down the subject of any exceptional expense that you have: for example(vacation,flights..)flights\n",
      "How much do you spend on it? 400\n",
      "Budget added successfully :)\n"
     ]
    }
   ],
   "source": [
    "new_budget1 = Budget_tracker.create_new_budget()"
   ]
  },
  {
   "cell_type": "code",
   "execution_count": 3,
   "metadata": {},
   "outputs": [
    {
     "name": "stdout",
     "output_type": "stream",
     "text": [
      "{'date': datetime.date(2020, 5, 11), 'user_name': 'Eden', 'income': {'work': 4000, 'rentals': 900}, 'expenses': {'rent': 1000}, 'exceptional_expenses': {'flights': 400}}\n"
     ]
    }
   ],
   "source": [
    "print(new_budget1)"
   ]
  },
  {
   "cell_type": "code",
   "execution_count": null,
   "metadata": {},
   "outputs": [],
   "source": [
    "new_budget1.add_income()"
   ]
  },
  {
   "cell_type": "code",
   "execution_count": 4,
   "metadata": {},
   "outputs": [],
   "source": [
    "total_income = new_budget1.total_income()"
   ]
  },
  {
   "cell_type": "code",
   "execution_count": 11,
   "metadata": {},
   "outputs": [
    {
     "data": {
      "text/plain": [
       "4900"
      ]
     },
     "execution_count": 11,
     "metadata": {},
     "output_type": "execute_result"
    }
   ],
   "source": [
    "new_budget1.total_income()"
   ]
  },
  {
   "cell_type": "code",
   "execution_count": null,
   "metadata": {},
   "outputs": [],
   "source": [
    "new_budget1.add_another_expense()"
   ]
  },
  {
   "cell_type": "code",
   "execution_count": 6,
   "metadata": {},
   "outputs": [],
   "source": [
    "total_expenses = new_budget1.total_expenses()"
   ]
  },
  {
   "cell_type": "code",
   "execution_count": 12,
   "metadata": {},
   "outputs": [
    {
     "data": {
      "text/plain": [
       "1400"
      ]
     },
     "execution_count": 12,
     "metadata": {},
     "output_type": "execute_result"
    }
   ],
   "source": [
    "new_budget1.total_expenses()"
   ]
  },
  {
   "cell_type": "code",
   "execution_count": 28,
   "metadata": {},
   "outputs": [
    {
     "name": "stdout",
     "output_type": "stream",
     "text": [
      "Your monthly budget is:3500\n"
     ]
    }
   ],
   "source": [
    "monthly_budget = your_monthly_budget(total_income,total_expenses)"
   ]
  },
  {
   "cell_type": "code",
   "execution_count": 30,
   "metadata": {},
   "outputs": [
    {
     "name": "stdout",
     "output_type": "stream",
     "text": [
      "3500\n"
     ]
    }
   ],
   "source": [
    "print(monthly_budget)"
   ]
  },
  {
   "cell_type": "code",
   "execution_count": 47,
   "metadata": {},
   "outputs": [
    {
     "name": "stdout",
     "output_type": "stream",
     "text": [
      "How much money do you have saved?20000\n",
      "How much money do you save a month?0\n",
      "Do you invest your savings?yes\n",
      "How much percentages(averagely) do you make a year?7\n",
      "Wow that's a great return!\n"
     ]
    },
    {
     "data": {
      "image/png": "[encoded data removed]",
      "text/plain": [
       "<Figure size 432x288 with 1 Axes>"
      ]
     },
     "metadata": {
      "needs_background": "light"
     },
     "output_type": "display_data"
    }
   ],
   "source": [
    "years_for_retirement(monthly_budget,new_budget1.total_expenses())"
   ]
  },
  {
   "cell_type": "code",
   "execution_count": null,
   "metadata": {},
   "outputs": [],
   "source": []
  }
 ],
 "metadata": {
  "kernelspec": {
   "display_name": "Python 3",
   "language": "python",
   "name": "python3"
  },
  "language_info": {
   "codemirror_mode": {
    "name": "ipython",
    "version": 3
   },
   "file_extension": ".py",
   "mimetype": "text/x-python",
   "name": "python",
   "nbconvert_exporter": "python",
   "pygments_lexer": "ipython3",
   "version": "3.7.6"
  }
 },
 "nbformat": 4,
 "nbformat_minor": 4
}
